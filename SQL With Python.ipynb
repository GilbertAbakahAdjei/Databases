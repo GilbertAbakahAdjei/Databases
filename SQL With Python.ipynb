{
 "cells": [
  {
   "cell_type": "markdown",
   "metadata": {},
   "source": [
    "# DATABASE TUTORIALS WITH PYTHON & SQL"
   ]
  },
  {
   "cell_type": "markdown",
   "metadata": {},
   "source": [
    "*In order to use database with python, there are some concepts that one has to be familiar with*"
   ]
  },
  {
   "cell_type": "markdown",
   "metadata": {},
   "source": [
    "1. SQL - STRUCTURED QUERY LANGUAGE, basically the language we are going to use to implement relational databases\n",
    "2. SQL SERVERS eg: MySQL Server"
   ]
  },
  {
   "cell_type": "markdown",
   "metadata": {},
   "source": [
    "# PART 1 - with SQLite"
   ]
  },
  {
   "cell_type": "markdown",
   "metadata": {},
   "source": [
    "We begin by importing SQLite - Which is a light weight database manager and comes with python"
   ]
  },
  {
   "cell_type": "code",
   "execution_count": 4,
   "metadata": {},
   "outputs": [],
   "source": [
    "import sqlite3"
   ]
  },
  {
   "cell_type": "markdown",
   "metadata": {},
   "source": [
    "After importing sqlite, we create a connection with the database we are going to use. Sqlite has it that\n",
    "what we are going to pass in the .connect() represents both the database name, and the database itself. If\n",
    "the database doesn't exist, sqlite will automatically create a new database with the name specified and create\n",
    "the connection. If the database exists, then the database would be connected. In our case MaxNyansa.db doesn't\n",
    "exist so a new one is created for us"
   ]
  },
  {
   "cell_type": "code",
   "execution_count": 5,
   "metadata": {},
   "outputs": [],
   "source": [
    "connection = sqlite3.connect('MaxNyansa.db')"
   ]
  },
  {
   "cell_type": "markdown",
   "metadata": {},
   "source": [
    "Now that the connection has been established and the database created, we create a cursor object. A cursor basically is\n",
    "what traverses through the records of the database. It also keeps track of outstanding operations of the database"
   ]
  },
  {
   "cell_type": "code",
   "execution_count": 6,
   "metadata": {},
   "outputs": [],
   "source": [
    "cursor = connection.cursor()"
   ]
  },
  {
   "cell_type": "markdown",
   "metadata": {},
   "source": [
    "We write our basic query for creating a table in SQL and execute it"
   ]
  },
  {
   "cell_type": "code",
   "execution_count": 13,
   "metadata": {},
   "outputs": [],
   "source": [
    "command = \"\"\"CREATE TABLE Maxim(\n",
    "                ID INTEGER PRIMARY KEY\n",
    "                ,F_NAME VARCHAR(20)\n",
    "                ,L_NAME VARCHAR(20)\n",
    "                ,AGE INTEGER);\"\"\""
   ]
  },
  {
   "cell_type": "code",
   "execution_count": 14,
   "metadata": {},
   "outputs": [
    {
     "data": {
      "text/plain": [
       "<sqlite3.Cursor at 0x22844fc7340>"
      ]
     },
     "execution_count": 14,
     "metadata": {},
     "output_type": "execute_result"
    }
   ],
   "source": [
    "cursor.execute(command)"
   ]
  },
  {
   "cell_type": "markdown",
   "metadata": {},
   "source": [
    "Now that our Maxim table has been successfully been created, let us write some query to insert values into the table"
   ]
  },
  {
   "cell_type": "code",
   "execution_count": 15,
   "metadata": {},
   "outputs": [],
   "source": [
    "sql_comm = \"\"\"INSERT INTO Maxim VALUES\n",
    "                (NULL,\"GILBERT\", \"ADJEI\", 23),\n",
    "                (NULL,\"ASEDA\", \"ADDAI-DESEH\", 23),\n",
    "                (NULL,\"RICHARD\", \"ACKON\", 22);\"\"\""
   ]
  },
  {
   "cell_type": "markdown",
   "metadata": {},
   "source": [
    "It is always best practices to save the connection that has been established. We use the .commit() operation to\n",
    "achieve that"
   ]
  },
  {
   "cell_type": "code",
   "execution_count": 16,
   "metadata": {},
   "outputs": [],
   "source": [
    "connection.commit()"
   ]
  },
  {
   "cell_type": "code",
   "execution_count": 17,
   "metadata": {},
   "outputs": [
    {
     "data": {
      "text/plain": [
       "<sqlite3.Cursor at 0x22844fc7340>"
      ]
     },
     "execution_count": 17,
     "metadata": {},
     "output_type": "execute_result"
    }
   ],
   "source": [
    "cursor.execute(sql_comm)"
   ]
  },
  {
   "cell_type": "markdown",
   "metadata": {},
   "source": [
    "Let us now query our database by using the simple SQL query and save it in results"
   ]
  },
  {
   "cell_type": "code",
   "execution_count": 18,
   "metadata": {},
   "outputs": [],
   "source": [
    "results=cursor.execute(\"\"\"SELECT * FROM Maxim;\"\"\")"
   ]
  },
  {
   "cell_type": "markdown",
   "metadata": {},
   "source": [
    "We use the .fetchall() function to get all contents that was returned from our query"
   ]
  },
  {
   "cell_type": "code",
   "execution_count": 19,
   "metadata": {},
   "outputs": [
    {
     "data": {
      "text/plain": [
       "[(1, 'GILBERT', 'ADJEI', 23),\n",
       " (2, 'ASEDA', 'ADDAI-DESEH', 23),\n",
       " (3, 'RICHARD', 'ACKON', 22)]"
      ]
     },
     "execution_count": 19,
     "metadata": {},
     "output_type": "execute_result"
    }
   ],
   "source": [
    "results.fetchall()"
   ]
  },
  {
   "cell_type": "markdown",
   "metadata": {},
   "source": [
    "# PART - 2 with MySQLdb"
   ]
  },
  {
   "cell_type": "markdown",
   "metadata": {},
   "source": [
    "MySQLdb is a DBM-API module for MySQL Server. A module responsible for interfacing with the MySQL Server.\n",
    "We import as we would any python module. You can pip install MySQLdb if you don't have it. Note: MySQLdb\n",
    "is for python API 2. For Python 3 and above users, you have to install the more stable fork of MySQLdb called\n",
    "mysqlclient"
   ]
  },
  {
   "cell_type": "code",
   "execution_count": 20,
   "metadata": {},
   "outputs": [],
   "source": [
    "import MySQLdb"
   ]
  },
  {
   "cell_type": "markdown",
   "metadata": {},
   "source": [
    "We establish connection with the SQL Server. Credentials may differ from your server you are running on. But the idea is\n",
    "still the same"
   ]
  },
  {
   "cell_type": "code",
   "execution_count": 21,
   "metadata": {},
   "outputs": [],
   "source": [
    "connection = MySQLdb.connect (host = \"localhost\",\n",
    "                              user = \"root\",\n",
    "                              passwd = \"root\",\n",
    "                              db = \"test\")"
   ]
  },
  {
   "cell_type": "markdown",
   "metadata": {},
   "source": [
    "We create the cursor object as we did in part one and execute a select all query."
   ]
  },
  {
   "cell_type": "code",
   "execution_count": 22,
   "metadata": {},
   "outputs": [],
   "source": [
    "cursor = connection.cursor()"
   ]
  },
  {
   "cell_type": "code",
   "execution_count": 23,
   "metadata": {},
   "outputs": [
    {
     "data": {
      "text/plain": [
       "3"
      ]
     },
     "execution_count": 23,
     "metadata": {},
     "output_type": "execute_result"
    }
   ],
   "source": [
    "cursor.execute(\"SELECT * FROM testtable\")"
   ]
  },
  {
   "cell_type": "markdown",
   "metadata": {},
   "source": [
    "We finally call the fetchall() function to obtain the values returned by the query from the server."
   ]
  },
  {
   "cell_type": "code",
   "execution_count": 24,
   "metadata": {},
   "outputs": [
    {
     "data": {
      "text/plain": [
       "((1, '', '', 0), (2, 'Gilbert', 'Adjei', 23), (3, 'Khadija', 'Alhassan', 22))"
      ]
     },
     "execution_count": 24,
     "metadata": {},
     "output_type": "execute_result"
    }
   ],
   "source": [
    "cursor.fetchall()"
   ]
  },
  {
   "cell_type": "markdown",
   "metadata": {},
   "source": [
    "After all this is done, you make sure you close the connection "
   ]
  }
 ],
 "metadata": {
  "kernelspec": {
   "display_name": "Python 3",
   "language": "python",
   "name": "python3"
  },
  "language_info": {
   "codemirror_mode": {
    "name": "ipython",
    "version": 3
   },
   "file_extension": ".py",
   "mimetype": "text/x-python",
   "name": "python",
   "nbconvert_exporter": "python",
   "pygments_lexer": "ipython3",
   "version": "3.6.5"
  }
 },
 "nbformat": 4,
 "nbformat_minor": 2
}
